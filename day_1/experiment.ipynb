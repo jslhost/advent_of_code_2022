{
 "cells": [
  {
   "cell_type": "code",
   "execution_count": 61,
   "metadata": {},
   "outputs": [
    {
     "name": "stdout",
     "output_type": "stream",
     "text": [
      "73211\n"
     ]
    }
   ],
   "source": [
    "import pandas as pd\n",
    "\n",
    "with open('input.txt') as file:\n",
    "    data = file.read()\n",
    "\n",
    "data_liste = data.split('\\n')\n",
    "df = pd.DataFrame(data_liste, columns=['calories'])\n",
    "hole_index = df.loc[df['calories']==\"\"].index\n",
    "\n",
    "base_index = 0\n",
    "calories_sum_list = []\n",
    "\n",
    "for idx in hole_index:\n",
    "    elf_carrying = df.iloc[base_index:idx].astype(\"int\")\n",
    "    calories_sum = elf_carrying.sum().values[0]\n",
    "    calories_sum_list.append(calories_sum)\n",
    "    base_index = idx + 1\n",
    "\n",
    "print(max(calories_sum_list))"
   ]
  },
  {
   "cell_type": "code",
   "execution_count": null,
   "metadata": {},
   "outputs": [],
   "source": []
  }
 ],
 "metadata": {
  "kernelspec": {
   "display_name": "base",
   "language": "python",
   "name": "python3"
  },
  "language_info": {
   "codemirror_mode": {
    "name": "ipython",
    "version": 3
   },
   "file_extension": ".py",
   "mimetype": "text/x-python",
   "name": "python",
   "nbconvert_exporter": "python",
   "pygments_lexer": "ipython3",
   "version": "3.8.8"
  },
  "orig_nbformat": 4,
  "vscode": {
   "interpreter": {
    "hash": "b826f3cc26bf261a738aa395db11ba18e8611ccc2b857b4784f1b9cd0f0298be"
   }
  }
 },
 "nbformat": 4,
 "nbformat_minor": 2
}
